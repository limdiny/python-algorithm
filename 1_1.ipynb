{
  "nbformat": 4,
  "nbformat_minor": 0,
  "metadata": {
    "colab": {
      "provenance": [],
      "collapsed_sections": [],
      "authorship_tag": "ABX9TyNeoodG8BP1k/7BCzWBBEsu",
      "include_colab_link": true
    },
    "kernelspec": {
      "name": "python3",
      "display_name": "Python 3"
    },
    "language_info": {
      "name": "python"
    },
    "accelerator": "GPU",
    "gpuClass": "standard"
  },
  "cells": [
    {
      "cell_type": "markdown",
      "metadata": {
        "id": "view-in-github",
        "colab_type": "text"
      },
      "source": [
        "<a href=\"https://colab.research.google.com/github/limdiny/python-algorithm/blob/main/1_1.ipynb\" target=\"_parent\"><img src=\"https://colab.research.google.com/assets/colab-badge.svg\" alt=\"Open In Colab\"/></a>"
      ]
    },
    {
      "cell_type": "markdown",
      "source": [
        "# 순차 탐색 문제\n",
        "숫자x가 리스트 안에 있으면 인덱스(위치)를 반환하고, 없으면 no을 반환한다. "
      ],
      "metadata": {
        "id": "Td0pkDHYhhXL"
      }
    },
    {
      "cell_type": "code",
      "source": [
        "def seqsearch(x,S,n):\n",
        "  location = 0\n",
        "  while (location <= n and S[location]!=x):\n",
        "    location += 1\n",
        "  if (location > n):\n",
        "    location = 'no'\n",
        "  return location"
      ],
      "metadata": {
        "id": "ycBSv5LelbLa"
      },
      "execution_count": null,
      "outputs": []
    },
    {
      "cell_type": "code",
      "source": [
        "list = [1,8,9,10,11,99,23]\n",
        "\n",
        "seqsearch(16,list,len(list)-1)"
      ],
      "metadata": {
        "colab": {
          "base_uri": "https://localhost:8080/",
          "height": 35
        },
        "id": "a8HRcEp1pDTD",
        "outputId": "e720fa9c-3a07-4eed-a044-2715ee507d78"
      },
      "execution_count": null,
      "outputs": [
        {
          "output_type": "execute_result",
          "data": {
            "text/plain": [
              "'no'"
            ],
            "application/vnd.google.colaboratory.intrinsic+json": {
              "type": "string"
            }
          },
          "metadata": {},
          "execution_count": 73
        }
      ]
    },
    {
      "cell_type": "markdown",
      "source": [
        "# 리스트 원소의 합"
      ],
      "metadata": {
        "id": "0kEssxagqDfN"
      }
    },
    {
      "cell_type": "code",
      "source": [
        "def sumlist(s,n):\n",
        "  sum = 0\n",
        "  location = 0\n",
        "  while (location <= n):\n",
        "    sum += s[location]\n",
        "    location += 1\n",
        "  return sum"
      ],
      "metadata": {
        "id": "qqwSP075qHYg"
      },
      "execution_count": null,
      "outputs": []
    },
    {
      "cell_type": "code",
      "source": [
        "list = [-1,10,7,11,5,13,8]\n",
        "\n",
        "sumlist(list,len(list)-1)"
      ],
      "metadata": {
        "colab": {
          "base_uri": "https://localhost:8080/"
        },
        "id": "WU90jLc_qz9o",
        "outputId": "60fecb2e-85ad-4916-ca01-6b2483ff9759"
      },
      "execution_count": null,
      "outputs": [
        {
          "output_type": "execute_result",
          "data": {
            "text/plain": [
              "53"
            ]
          },
          "metadata": {},
          "execution_count": 79
        }
      ]
    },
    {
      "cell_type": "code",
      "source": [
        "def sum(s,n):\n",
        "  result = 0\n",
        "  for i in range(len(s)):\n",
        "    result += s[i]\n",
        "  return result"
      ],
      "metadata": {
        "id": "zfKuNDIZrqSj"
      },
      "execution_count": null,
      "outputs": []
    },
    {
      "cell_type": "code",
      "source": [
        "list = [-1,10,7,11,5,13,8]\n",
        "\n",
        "sum(list,len(list)-1)"
      ],
      "metadata": {
        "colab": {
          "base_uri": "https://localhost:8080/"
        },
        "id": "KKJPkqRmr_rV",
        "outputId": "691b9f6b-6ab6-495f-e4ed-14d0a665858b"
      },
      "execution_count": null,
      "outputs": [
        {
          "output_type": "execute_result",
          "data": {
            "text/plain": [
              "53"
            ]
          },
          "metadata": {},
          "execution_count": 85
        }
      ]
    },
    {
      "cell_type": "markdown",
      "source": [
        "# 리스트 정렬 문제 \n",
        "n개의 수로 구성된 리스트 s를 오름차순으로 정렬하시오"
      ],
      "metadata": {
        "id": "_iYUsT5NsSqj"
      }
    },
    {
      "cell_type": "code",
      "source": [
        "# 비교 후 교환\n",
        "def upsorting(s):\n",
        "  for i in range(len(s)):\n",
        "    for j in range(i,len(s)):\n",
        "        if (s[i]>s[j]):\n",
        "          s[i],s[j] = s[j],s[i]\n",
        "  return s"
      ],
      "metadata": {
        "id": "BiBQ4Ko_xPpl"
      },
      "execution_count": null,
      "outputs": []
    },
    {
      "cell_type": "code",
      "source": [
        "list = [-1,10,7,11,5,13,8]\n",
        "\n",
        "upsorting(list)"
      ],
      "metadata": {
        "colab": {
          "base_uri": "https://localhost:8080/"
        },
        "id": "-jT0ex_g2Yyi",
        "outputId": "c0a7f4f1-0030-4074-8ad3-d68af284d6f9"
      },
      "execution_count": null,
      "outputs": [
        {
          "output_type": "execute_result",
          "data": {
            "text/plain": [
              "[-1, 5, 7, 8, 10, 11, 13]"
            ]
          },
          "metadata": {},
          "execution_count": 107
        }
      ]
    },
    {
      "cell_type": "markdown",
      "source": [
        "# 행렬의 곱셈\n",
        "어렵다..........."
      ],
      "metadata": {
        "id": "cqcW98PH4NeF"
      }
    },
    {
      "cell_type": "code",
      "source": [
        "def matrixmul(A,B):\n",
        "  n= len(A)\n",
        "  C= [[0]*n for i in range(n)]\n",
        "  for i in range(n):\n",
        "    for j in range(n):\n",
        "      for k in range(n):\n",
        "        C[i][j] += A[i][k]*B[k][j]\n",
        "  return C"
      ],
      "metadata": {
        "id": "rOP0afU24NIZ"
      },
      "execution_count": null,
      "outputs": []
    },
    {
      "cell_type": "code",
      "source": [
        "A=[[2,3],[4,1]]\n",
        "B=[[5,7],[6,8]]\n",
        "\n",
        "matrixmul(A,B)"
      ],
      "metadata": {
        "colab": {
          "base_uri": "https://localhost:8080/"
        },
        "id": "Znfw03sO8jwK",
        "outputId": "4d174ee8-e44e-4e52-bea9-c522a3560a10"
      },
      "execution_count": null,
      "outputs": [
        {
          "output_type": "execute_result",
          "data": {
            "text/plain": [
              "[[28, 38], [26, 36]]"
            ]
          },
          "metadata": {},
          "execution_count": 129
        }
      ]
    }
  ]
}